{
 "cells": [
  {
   "cell_type": "code",
   "execution_count": 1,
   "metadata": {},
   "outputs": [],
   "source": [
    "import numpy as np\n",
    "from matplotlib import pyplot as plt\n",
    "import pandas as pd\n",
    "import muon_functions as mf"
   ]
  },
  {
   "cell_type": "markdown",
   "metadata": {},
   "source": [
    "## Pulling from the Neutron Output File:\n",
    "\n",
    "The Neutron Output file `NEWINPUT001_fort.99` contains lines in the following format:\n",
    "\n",
    "` Neutron in TPC! NCASE, ETRACK, LTRACK, WTRACK`<br>\n",
    "`       6       1.3184171765016091          5       1.0000000000000000`\n",
    "\n",
    "The goal here is to read in the files, creating the following dataframe with each line being a neutron:\n",
    "\n",
    "|Muon|Energy|Generation|Muon Impact Parameter|\n",
    "|----|----------------------|------|----------|\n",
    "|6|1.3184171765016091|0.0|5|\n",
    "\n",
    "## Muon format in phase space file:\n",
    "|Fluka  Num.|Energy [GeV]|$X_0$|$Y_0$|$Z_0$|$\\cos x$|$\\cos y$|$\\cos z$|Stat. Weight|\n",
    "|----------------|-------------|----|------|----|---------|--------|--------|------------|\n",
    "|11| 1111.5767| -20.3335| -9.14201| 22.2000| 0.6735| 0.1693| -0.71946| 1|"
   ]
  },
  {
   "cell_type": "code",
   "execution_count": 11,
   "metadata": {},
   "outputs": [],
   "source": [
    "import pandas as pd\n",
    "import numpy as np\n",
    "import muon_functions as mf\n",
    "\n",
    "def read_neutron_file_and_muons(neutron_path, phase_space) -> pd.DataFrame:\n",
    "\n",
    "    # Loading up a pandas dataframe \n",
    "\n",
    "    muons, energy, generation = [], [], []\n",
    "    xsco, ysco, zsco = [], [], []\n",
    "    cx, cy, cz = [], [], []\n",
    "    with open(neutron_path) as neutron_file:\n",
    "        line = neutron_file.readline()\n",
    "        while line:\n",
    "            lin_array = line.split()\n",
    "\n",
    "            muons.append(int(lin_array[0]))\n",
    "            energy.append(float(lin_array[1]))\n",
    "            generation.append(int(lin_array[2]))\n",
    "            xsco.append(float(lin_array[3]))\n",
    "            ysco.append(float(lin_array[4]))\n",
    "            zsco.append(float(lin_array[5]))\n",
    "            cx.append(float(lin_array[6]))\n",
    "            cy.append(float(lin_array[7]))\n",
    "            cz.append(float(lin_array[8]))\n",
    "            \n",
    "            line = neutron_file.readline()\n",
    "\n",
    "    # Pass the data from the lists into the dataframes\n",
    "    neutron_data = pd.DataFrame(columns = ['muon', 'energy', 'generation', 'xsco', 'ysco', 'zsco', 'cx', 'cy', 'cz'])\n",
    "\n",
    "    neutron_data['muon'], neutron_data['energy'], neutron_data['generation'] = muons, energy, generation\n",
    "    neutron_data['xsco'], neutron_data['ysco'], neutron_data['zsco'] = xsco, ysco, zsco\n",
    "    neutron_data['cx'], neutron_data['cy'], neutron_data['cz'] = cx, cy, cz\n",
    "\n",
    "    del muons, energy, generation, xsco, ysco, zsco, cx, cy, cz # Delete the unneeded lists\n",
    "\n",
    "    muon_list = neutron_data['muon'].unique()\n",
    "\n",
    "    muon_data = pd.DataFrame(columns = ['energy', 'impact', 'x0', 'y0', 'z0', 'zenith', 'azimuth'])\n",
    "\n",
    "    # Loading in the muon data from the phase space file\n",
    "    muons = []\n",
    "    with open(phase_space) as muon_file:\n",
    "        line = muon_file.readline()\n",
    "        line_number = 1 # The line we're on in the file ; the muon number according to the file: [1, e.o.f]\n",
    "        muon_number = 0 # The number of the muon we're interested in taking: muon_list[some_index]\n",
    "        while line:\n",
    "            if line_number == muon_list[muon_number]:\n",
    "                # Append the muon to the list\n",
    "                lin_array = line.split()\n",
    "                muons.append(lin_array)\n",
    "                muon_number = muon_number + 1\n",
    "                if muon_number == len(muon_list): break # ladies and gentlemen, we got 'em\n",
    "            line_number = line_number + 1\n",
    "            line = muon_file.readline()\n",
    "\n",
    "    muon_index = 0\n",
    "    impact_parameters = []\n",
    "    for muon in muon_list:\n",
    "\n",
    "        temp = muons[muon_index]\n",
    "        zenith = np.arccos(float(temp[7]))\n",
    "        energy = float(temp[1])\n",
    "        azimuth = np.arccos(float(temp[5])/np.sin(zenith))\n",
    "        initial =  (float(temp[2]), float(temp[3]), float(temp[4]))\n",
    "        tempMuon = mf.Muon(zenith, azimuth, 0, initial)\n",
    "        impact_param = tempMuon.closest_approach((0,0,0))\n",
    "\n",
    "        new_muon = {'energy' : [energy], 'impact' : [impact_param], 'zenith': zenith, 'azimuth': azimuth,\\\n",
    "             'x0' : [initial[0]], 'y0' : [initial[1]], 'z0' : [initial[1]]}\n",
    "        new_muon_df = pd.DataFrame(new_muon)\n",
    "        muon_data = pd.concat([muon_data, new_muon_df], ignore_index=True)\n",
    "\n",
    "    #     # set 'impact' = impact_param for every entry in neutron_data that has muon as its muon\n",
    "    #     for index, row in neutron_data.iterrows():\n",
    "\n",
    "    #         if int(row['muon']) == int(muon_list[muon_index]):\n",
    "    #             impact_parameters.append(impact_param)\n",
    "\n",
    "    #     muon_index += 1\n",
    "        \n",
    "    # neutron_data['impact'] = impact_parameters\n",
    "    \n",
    "    return neutron_data, muon_data\n"
   ]
  },
  {
   "cell_type": "code",
   "execution_count": 12,
   "metadata": {},
   "outputs": [
    {
     "data": {
      "text/plain": [
       "tuple"
      ]
     },
     "execution_count": 12,
     "metadata": {},
     "output_type": "execute_result"
    }
   ],
   "source": [
    "neutron_data = read_neutron_file_and_muons('NEWINPUT001_fort.99', 'muon_file.txt')\n",
    "type(neutron_data)"
   ]
  },
  {
   "cell_type": "markdown",
   "metadata": {},
   "source": [
    "# Plotting the data\n",
    "\n",
    "Now we want to make a scatter plot of the number of neutrons produced per muon versus the impact parameter\n"
   ]
  },
  {
   "cell_type": "code",
   "execution_count": 8,
   "metadata": {},
   "outputs": [
    {
     "ename": "TypeError",
     "evalue": "tuple indices must be integers or slices, not str",
     "output_type": "error",
     "traceback": [
      "\u001b[0;31m---------------------------------------------------------------------------\u001b[0m",
      "\u001b[0;31mTypeError\u001b[0m                                 Traceback (most recent call last)",
      "\u001b[1;32m/Users/rross/Code/repos/xe_fluka/analysis.ipynb Cell 6\u001b[0m in \u001b[0;36m<cell line: 1>\u001b[0;34m()\u001b[0m\n\u001b[0;32m----> <a href='vscode-notebook-cell:/Users/rross/Code/repos/xe_fluka/analysis.ipynb#W5sZmlsZQ%3D%3D?line=0'>1</a>\u001b[0m impacts \u001b[39m=\u001b[39m neutron_data[\u001b[39m'\u001b[39;49m\u001b[39mimpact\u001b[39;49m\u001b[39m'\u001b[39;49m]\u001b[39m.\u001b[39munique()\n\u001b[1;32m      <a href='vscode-notebook-cell:/Users/rross/Code/repos/xe_fluka/analysis.ipynb#W5sZmlsZQ%3D%3D?line=1'>2</a>\u001b[0m neutron_count \u001b[39m=\u001b[39m []\n\u001b[1;32m      <a href='vscode-notebook-cell:/Users/rross/Code/repos/xe_fluka/analysis.ipynb#W5sZmlsZQ%3D%3D?line=3'>4</a>\u001b[0m \u001b[39mfor\u001b[39;00m impact \u001b[39min\u001b[39;00m impacts:\n",
      "\u001b[0;31mTypeError\u001b[0m: tuple indices must be integers or slices, not str"
     ]
    }
   ],
   "source": [
    "impacts = neutron_data['impact'].unique()\n",
    "neutron_count = []\n",
    "\n",
    "for impact in impacts:\n",
    "    neutron_count.append(len(neutron_data.loc[neutron_data['impact'] == impact]))\n",
    "plt.scatter(impacts, neutron_count)"
   ]
  },
  {
   "cell_type": "code",
   "execution_count": 8,
   "metadata": {},
   "outputs": [
    {
     "ename": "FileNotFoundError",
     "evalue": "[Errno 2] No such file or directory: 'NEWINPUT001_fort.99'",
     "output_type": "error",
     "traceback": [
      "\u001b[0;31m---------------------------------------------------------------------------\u001b[0m",
      "\u001b[0;31mFileNotFoundError\u001b[0m                         Traceback (most recent call last)",
      "\u001b[1;32m/Users/rross/Code/repos/xe_fluka/analysis.ipynb Cell 7\u001b[0m in \u001b[0;36m<cell line: 1>\u001b[0;34m()\u001b[0m\n\u001b[0;32m----> <a href='vscode-notebook-cell:/Users/rross/Code/repos/xe_fluka/analysis.ipynb#X32sZmlsZQ%3D%3D?line=0'>1</a>\u001b[0m neutron_data \u001b[39m=\u001b[39m read_neutron_file_and_muons(neutron_path\u001b[39m=\u001b[39;49m\u001b[39m'\u001b[39;49m\u001b[39mNEWINPUT001_fort.99\u001b[39;49m\u001b[39m'\u001b[39;49m, phase_space\u001b[39m=\u001b[39;49m\u001b[39m'\u001b[39;49m\u001b[39mmuon_file.txt\u001b[39;49m\u001b[39m'\u001b[39;49m)\n\u001b[1;32m      <a href='vscode-notebook-cell:/Users/rross/Code/repos/xe_fluka/analysis.ipynb#X32sZmlsZQ%3D%3D?line=1'>2</a>\u001b[0m impacts \u001b[39m=\u001b[39m neutron_data[\u001b[39m'\u001b[39m\u001b[39mimpact\u001b[39m\u001b[39m'\u001b[39m]\u001b[39m.\u001b[39munique()\n\u001b[1;32m      <a href='vscode-notebook-cell:/Users/rross/Code/repos/xe_fluka/analysis.ipynb#X32sZmlsZQ%3D%3D?line=2'>3</a>\u001b[0m neutron_count \u001b[39m=\u001b[39m []\n",
      "\u001b[1;32m/Users/rross/Code/repos/xe_fluka/analysis.ipynb Cell 7\u001b[0m in \u001b[0;36mread_neutron_file_and_muons\u001b[0;34m(neutron_path, phase_space)\u001b[0m\n\u001b[1;32m      <a href='vscode-notebook-cell:/Users/rross/Code/repos/xe_fluka/analysis.ipynb#X32sZmlsZQ%3D%3D?line=0'>1</a>\u001b[0m \u001b[39mdef\u001b[39;00m \u001b[39mread_neutron_file_and_muons\u001b[39m(neutron_path, phase_space) \u001b[39m-\u001b[39m\u001b[39m>\u001b[39m pd\u001b[39m.\u001b[39mDataFrame:\n\u001b[1;32m      <a href='vscode-notebook-cell:/Users/rross/Code/repos/xe_fluka/analysis.ipynb#X32sZmlsZQ%3D%3D?line=1'>2</a>\u001b[0m \n\u001b[1;32m      <a href='vscode-notebook-cell:/Users/rross/Code/repos/xe_fluka/analysis.ipynb#X32sZmlsZQ%3D%3D?line=2'>3</a>\u001b[0m     \u001b[39m# Loading up a pandas dataframe \u001b[39;00m\n\u001b[1;32m      <a href='vscode-notebook-cell:/Users/rross/Code/repos/xe_fluka/analysis.ipynb#X32sZmlsZQ%3D%3D?line=4'>5</a>\u001b[0m     muons, energy, generation \u001b[39m=\u001b[39m [], [], []\n\u001b[0;32m----> <a href='vscode-notebook-cell:/Users/rross/Code/repos/xe_fluka/analysis.ipynb#X32sZmlsZQ%3D%3D?line=5'>6</a>\u001b[0m     \u001b[39mwith\u001b[39;00m \u001b[39mopen\u001b[39;49m(neutron_path) \u001b[39mas\u001b[39;00m neutron_file:\n\u001b[1;32m      <a href='vscode-notebook-cell:/Users/rross/Code/repos/xe_fluka/analysis.ipynb#X32sZmlsZQ%3D%3D?line=6'>7</a>\u001b[0m         line \u001b[39m=\u001b[39m neutron_file\u001b[39m.\u001b[39mreadline()\n\u001b[1;32m      <a href='vscode-notebook-cell:/Users/rross/Code/repos/xe_fluka/analysis.ipynb#X32sZmlsZQ%3D%3D?line=7'>8</a>\u001b[0m         \u001b[39mwhile\u001b[39;00m line:\n",
      "\u001b[0;31mFileNotFoundError\u001b[0m: [Errno 2] No such file or directory: 'NEWINPUT001_fort.99'"
     ]
    }
   ],
   "source": [
    "neutron_data = read_neutron_file_and_muons(neutron_path='NEWINPUT001_fort.99', phase_space='muon_file.txt')\n",
    "impacts = neutron_data['impact'].unique()\n",
    "neutron_count = []\n",
    "\n",
    "for impact in impacts:\n",
    "    neutron_count.append(len(neutron_data.loc[neutron_data['impact'] == impact]))\n",
    "plt.scatter(impacts, neutron_count)"
   ]
  },
  {
   "cell_type": "code",
   "execution_count": 7,
   "metadata": {},
   "outputs": [
    {
     "data": {
      "text/html": [
       "<div>\n",
       "<style scoped>\n",
       "    .dataframe tbody tr th:only-of-type {\n",
       "        vertical-align: middle;\n",
       "    }\n",
       "\n",
       "    .dataframe tbody tr th {\n",
       "        vertical-align: top;\n",
       "    }\n",
       "\n",
       "    .dataframe thead th {\n",
       "        text-align: right;\n",
       "    }\n",
       "</style>\n",
       "<table border=\"1\" class=\"dataframe\">\n",
       "  <thead>\n",
       "    <tr style=\"text-align: right;\">\n",
       "      <th></th>\n",
       "      <th>muon</th>\n",
       "      <th>energy</th>\n",
       "      <th>generation</th>\n",
       "      <th>impact</th>\n",
       "    </tr>\n",
       "  </thead>\n",
       "  <tbody>\n",
       "    <tr>\n",
       "      <th>0</th>\n",
       "      <td>2448</td>\n",
       "      <td>0.939566</td>\n",
       "      <td>36</td>\n",
       "      <td>10.392439</td>\n",
       "    </tr>\n",
       "    <tr>\n",
       "      <th>1</th>\n",
       "      <td>2448</td>\n",
       "      <td>0.940821</td>\n",
       "      <td>7</td>\n",
       "      <td>10.392439</td>\n",
       "    </tr>\n",
       "    <tr>\n",
       "      <th>2</th>\n",
       "      <td>4690</td>\n",
       "      <td>1.142912</td>\n",
       "      <td>8</td>\n",
       "      <td>22.058195</td>\n",
       "    </tr>\n",
       "  </tbody>\n",
       "</table>\n",
       "</div>"
      ],
      "text/plain": [
       "   muon    energy  generation     impact\n",
       "0  2448  0.939566          36  10.392439\n",
       "1  2448  0.940821           7  10.392439\n",
       "2  4690  1.142912           8  22.058195"
      ]
     },
     "execution_count": 7,
     "metadata": {},
     "output_type": "execute_result"
    }
   ],
   "source": [
    "neutron_data"
   ]
  },
  {
   "cell_type": "code",
   "execution_count": null,
   "metadata": {},
   "outputs": [],
   "source": []
  }
 ],
 "metadata": {
  "kernelspec": {
   "display_name": "Python 3.10.8 64-bit",
   "language": "python",
   "name": "python3"
  },
  "language_info": {
   "codemirror_mode": {
    "name": "ipython",
    "version": 3
   },
   "file_extension": ".py",
   "mimetype": "text/x-python",
   "name": "python",
   "nbconvert_exporter": "python",
   "pygments_lexer": "ipython3",
   "version": "3.10.8"
  },
  "orig_nbformat": 4,
  "vscode": {
   "interpreter": {
    "hash": "610c699f0cd8c4f129acd9140687fff6866bed0eb8e82f249fc8848b827b628c"
   }
  }
 },
 "nbformat": 4,
 "nbformat_minor": 2
}
