{
 "cells": [
  {
   "cell_type": "markdown",
   "id": "f4354eb8-3d28-4813-89f2-7e60aa4bc9e8",
   "metadata": {},
   "source": [
    "# Muon Sampling Histogram Generation\n",
    "\n",
    "In order to sample from histograms with FLUKA's built in `sample_histogram_momentum_energy()` function, we must generate a histogram file with the following format:\n",
    "\n",
    "`#Emin   Emax    dN/dE`<br>\n",
    "`#--------------------`<br>\n",
    " `10.  20.  11.`\n",
    " \n",
    " The bin minima in the leftmost column, the maxima in the middle, and the relative count in the final, rightmost column"
   ]
  },
  {
   "cell_type": "code",
   "execution_count": 1,
   "id": "1760b802-6ec8-4423-9fe2-0b0da06233d9",
   "metadata": {},
   "outputs": [],
   "source": [
    "import numpy as np\n",
    "import matplotlib.pyplot as plt\n",
    "from scipy.integrate import quad"
   ]
  },
  {
   "cell_type": "markdown",
   "id": "f2947fb2-fbde-4106-bba6-203aeedcb315",
   "metadata": {},
   "source": [
    "## ENERGY\n",
    "\n",
    "$$\\frac{dN}{dE_\\mu} = Ae^{-bh(\\gamma_\\mu -1)}\\cdot(E_\\mu + \\epsilon_\\mu(1-e^{-bh}))^{-\\gamma_\\mu}$$"
   ]
  },
  {
   "cell_type": "code",
   "execution_count": 3,
   "id": "c5b40863-d99e-48d2-905d-98c56ce02fc6",
   "metadata": {},
   "outputs": [],
   "source": [
    "def mh_energy_probs(energies, zenith = 0, sample = True):\n",
    "\n",
    "    SNOLAB_DEPTH = 5.89 #km.w.e\n",
    "    \n",
    "    b = 0.4 #km.w.e^{-1}\n",
    "    epsilon = 693 #GeV\n",
    "    gamma = 3.77\n",
    "    h = (SNOLAB_DEPTH/np.cos(zenith))\n",
    "    \n",
    "    prob = lambda E : np.exp(-b*h*(gamma - 1))*(E + epsilon*(1 - np.exp(-b*h)))**(-gamma)\n",
    "    norm_const = quad(prob, 0, np.pi/2)[0]\n",
    "    if not sample:\n",
    "        array = prob(energies)/norm_const\n",
    "    else:\n",
    "        array = prob(energies)/np.sum(prob(energies))\n",
    "\n",
    "    return array"
   ]
  },
  {
   "cell_type": "code",
   "execution_count": null,
   "id": "3d99d6a5",
   "metadata": {},
   "outputs": [],
   "source": [
    "def make_energy_file(e_min, e_max, N, filename = 'mu_e_hist.txt'):\n",
    "\n",
    "    energies = np.linspace(e_min, e_max, N)\n",
    "    probs = mh_energy_probs(energies)\n",
    "    hist = np.histogram(energies, weights=probs, bins = N)\n",
    "    file = open(filename, 'w')\n",
    "\n",
    "    filestring = \"%.3g    %.3g    %.3g\" %(0, energies[0], hist[0][0]) + \"\\n\"\n",
    "    file.write(filestring)\n",
    "    for i in range(N - 1):\n",
    "        filestring = \"%.3g    %.3g    %.3g\" %(energies[i], energies[i+1], hist[0][i]) + \"\\n\"\n",
    "        file.write(filestring)\n",
    "        \n",
    "    file.close()"
   ]
  },
  {
   "cell_type": "code",
   "execution_count": 1,
   "id": "cf4812a5",
   "metadata": {},
   "outputs": [],
   "source": [
    "def make_zenith_file(N, filename = 'mu_zen_hist.txt'):\n",
    "    radius = 6.1722\n",
    "    height = 12.8\n",
    "    gen_offset = 15\n",
    "\n",
    "    gen_radius = np.tan(1)*(height + gen_offset) + radius\n",
    "\n",
    "    slantDepth = 5.89 #km w.e.\n",
    "    I1 = 8.60e-6 #  0.53e-6 /sec/cm^2/sr\n",
    "    I2 = 0.44e-6 #  0.06e-6 /sec/cm^2/sr\n",
    "    lam1 = 0.45 #  0.01 km.w.e.\n",
    "    lam2 = 0.87 #  0.02 km.w.e.\n",
    "\n",
    "    #Zenith angle range\n",
    "    cosine = np.linspace(0.1, 1, N)\n",
    "\n",
    "    #Muon Angular distribution intensity\n",
    "    meiHime = (I1*np.exp(-slantDepth/(lam1*cosine))+I2*np.exp(-slantDepth/(lam2*cosine)))*np.sin(np.arccos(cosine))\n",
    "    meiHime = meiHime/np.sum(meiHime)\n",
    "\n",
    "    file = open(filename, 'w')\n",
    "\n",
    "    for i in range(len(meiHime)-1):\n",
    "        filestring = \"%.3g    %.3g    %.3g\" %(cosine[i], cosine[i+1], meiHime[i]) + \"\\n\"\n",
    "        file.write(filestring)\n",
    "\n",
    "    file.close()"
   ]
  },
  {
   "cell_type": "code",
   "execution_count": 53,
   "id": "7bd9cc0f-a74e-4716-9329-2c3d816a9a23",
   "metadata": {},
   "outputs": [],
   "source": [
    "make_zenith_file(20)"
   ]
  },
  {
   "cell_type": "markdown",
   "id": "f1780e91",
   "metadata": {},
   "source": [
    "# Making phase space file for FLUKA\n",
    "```\n",
    "! 8.2. File format:\n",
    "      ! The phase space file has to contain the following columns in this order:\n",
    "\n",
    "      ! - Particle code [integer]\n",
    "\n",
    "      ! - Particle momentum / energy [double precision]\n",
    "\n",
    "      ! - Starting X coordinate [double precision]\n",
    "      ! - Starting Y coordinate [double precision]\n",
    "      ! - Starting Z coordinate [double precision]\n",
    "\n",
    "      ! - Starting X direction cosine [double precision]\n",
    "      ! - Starting Y direction cosine [double precision]\n",
    "      ! - Starting Z direction cosine [double precision]\n",
    "\n",
    "      ! - Particle weight [double precision]```"
   ]
  },
  {
   "cell_type": "code",
   "execution_count": 1,
   "id": "27951f48",
   "metadata": {},
   "outputs": [],
   "source": [
    "def make_phase_space_file(num_muons, roi_radius = 0, roi_height = 0, filename = 'muon_file.txt'):\n",
    "    from random import random\n",
    "    import muon_functions as mf\n",
    "\n",
    "    if roi_radius == 0:\n",
    "        roi_radius = mf.OD_RADIUS + 1\n",
    "        roi_height = mf.OD_HEIGHT + 1\n",
    "\n",
    "    roi = mf.OuterDetector(roi_radius, roi_height)\n",
    "\n",
    "    file_stream = open(filename, 'w')\n",
    "\n",
    "    muarray = mf.intersecting_muons(num_muons, roi)\n",
    "\n",
    "    for muon in muarray:\n",
    "        particle_code = 10\n",
    "    \n",
    "        if random() > 0.5:\n",
    "            particle_code = 11\n",
    "            \n",
    "        file_stream.write(str(particle_code) + ' ' + str(muon) + '\\n')\n",
    "\n",
    "    file_stream.close()\n",
    "        "
   ]
  },
  {
   "cell_type": "code",
   "execution_count": 3,
   "id": "902e06cc",
   "metadata": {},
   "outputs": [],
   "source": [
    "make_phase_space_file(5000)"
   ]
  },
  {
   "cell_type": "code",
   "execution_count": 1,
   "id": "d322a623",
   "metadata": {},
   "outputs": [],
   "source": [
    "def make_vertical_muons(num_per_interval = 2, start = 0, stop = 12, increment = 0.01, energy = 360, init_z = 22, filename = 'vertical_muons.txt'):\n",
    "    from random import random\n",
    "    import muon_functions as mf\n",
    "    import numpy as np\n",
    "\n",
    "    file_stream = open(filename, 'w')\n",
    "\n",
    "    iterations = int((stop - start)/increment)\n",
    "\n",
    "    for i in range(iterations):\n",
    "\n",
    "        init_x = start + i*increment\n",
    "\n",
    "        muon = mf.Muon(0, 0, initial = (init_x, 0, init_z))\n",
    "\n",
    "        for j in range(num_per_interval):\n",
    "            ramdom = random()\n",
    "            if ramdom > 0.5:\n",
    "                particle_code = 11\n",
    "            else:\n",
    "                particle_code = 10 \n",
    "\n",
    "            file_stream.write(str(particle_code) + ' ' + str(muon) + '\\n')\n",
    "\n",
    "    file_stream.close()\n",
    "\n"
   ]
  },
  {
   "cell_type": "code",
   "execution_count": 25,
   "id": "bfe37bc7",
   "metadata": {},
   "outputs": [],
   "source": [
    "make_vertical_muons()"
   ]
  },
  {
   "cell_type": "code",
   "execution_count": null,
   "id": "f35dd889",
   "metadata": {},
   "outputs": [],
   "source": []
  }
 ],
 "metadata": {
  "kernelspec": {
   "display_name": "Python 3.10.8 64-bit",
   "language": "python",
   "name": "python3"
  },
  "language_info": {
   "codemirror_mode": {
    "name": "ipython",
    "version": 3
   },
   "file_extension": ".py",
   "mimetype": "text/x-python",
   "name": "python",
   "nbconvert_exporter": "python",
   "pygments_lexer": "ipython3",
   "version": "3.10.8"
  },
  "vscode": {
   "interpreter": {
    "hash": "610c699f0cd8c4f129acd9140687fff6866bed0eb8e82f249fc8848b827b628c"
   }
  }
 },
 "nbformat": 4,
 "nbformat_minor": 5
}
